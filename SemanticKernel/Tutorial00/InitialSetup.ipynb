{
 "cells": [
  {
   "attachments": {},
   "cell_type": "markdown",
   "metadata": {},
   "source": [
    "# Setup prerequisites\n",
    "\n",
    "In this brief tutorial, we'll make sure you get everything set up so you can run the other notebooks.\n",
    "\n",
    "1. First, you'll need Visual Studio Code. You'll also need the Polyglot extension from Microsoft.\n",
    "2. In order to make progress in these tutorials, you must have either Azure OpenAI Service provisioned and/or established an OpenAI account.\n",
    "3. Find the **config** folder and add a new file there named **settings.json**.\n",
    "4. In the settings.json file you just created, paste the following code and replace the text within square brackets with your own settings. (Remember you only to populate either AzureOpenAI or OpenAI settings.): \n",
    "``` json\n",
    "{\n",
    "    \"Type\": \"azure\", \n",
    "    \"AzureOpenAI\": {\n",
    "        \"Endpoint\": \"[the endpoint URL from your Azure OpenAI Service instance]\", \n",
    "        \"ApiKey\": \"[key from your Azure OpenAI Service instance.]\", \n",
    "        \"ChatDeployment\": \"[insert the name of a model deployment in your Azure OpenAI instance.]\"\n",
    "    }, \n",
    "    \"OpenAI\": {\n",
    "        \"ApiKey\": \"[the key from your OpenAI instance]\", \n",
    "        \"OrgId\": \"[the organization ID from your OpenAI instance]\", \n",
    "        \"Model\": \"[insert the name of the model you are using from OpenAI]\"\n",
    "    }\n",
    "}\n",
    "```\n",
    "For the **type** setting above, you can enter *azure* to specify you want to use Azure OpenAI Service or *openai* if you want to use OpenAI.\n",
    "\n",
    "If you are connecting to an instance of the Azure OpenAI Service, you have to set:\n",
    "- **AzureOpenAI Endpoint** In the Azure portal, navigate to the **Overview** page of your Azure OpenAI instance. Copy the Endpoint URL to your clipboard and paste the value into your settings.json.\n",
    "- **AzureOpenAIApiKey** In the Azure portal, navigate to the **Keys and Endpoint** page of your Azure OpenAI instance. Copy the **KEY 1** value to your clipboard and paste the value into your settings.json.\n",
    "- **deployment** In the Azure portal, navigate to the **Model Deployments** page of your Azure OpenAI instance. Click the **Manage Deployments** button to navigate to Azure AI Studio and the **Deployments** page. If you haven't already, create a new deployment and select the gpt-35-turbo model. Give your deployment a name and paste the value into your settings.json. NOTE: The name of the deployment you set is the value to use in the settings.json - which may differ from the name of the underlying model.\n",
    "Else if you are connecting directly to the OpenAI APIs, first navigate to [this](https://platform.openai.com/) and log in using your Microsoft account.\n",
    "- **ApiKey** In your browser, navigate to [this](https://platform.openai.com/account/api-keys) web page. Copy one of your API keys from the web page to your clipboard and paste the value into your settings.json.\n",
    "- **Organization** In your browser, navigate to [this](https://platform.openai.com/account/org-settings). Copy the organization ID from the web page to your clipboard and paste the value into your settings.json.\n",
    "- **Model** In your browser, navigate to [this](https://platform.openai.com/docs/models). You can (and should) explore the various models available from OpenAI, but for most of these tutorials, I recommend starting with gpt-3.5-turbo. Copy your chosen model to your clipboard and paste the value into your settings.json."
   ]
  },
  {
   "cell_type": "code",
   "execution_count": null,
   "metadata": {
    "dotnet_interactive": {
     "language": "csharp"
    },
    "polyglot_notebook": {
     "kernelName": "csharp"
    },
    "vscode": {
     "languageId": "polyglot-notebook"
    }
   },
   "outputs": [],
   "source": [
    "// hit the little play button to the left of this line in order to run this code\n",
    "#!import ../config/SettingsHelper.cs\n",
    "\n",
    "MySettings settings = Settings.LoadFromFile();\n",
    "\n",
    "// print the settings from your file below\n",
    "Console.WriteLine($\"I want to use {settings.Type}\");\n",
    "Console.WriteLine($\"Using Azure OpenAI endpoint: {settings.AzureOpenAI.Endpoint}\");\n",
    "Console.WriteLine($\"Your key is secret, but we see {settings.AzureOpenAI.ApiKey.Length} characters in your setting.\");\n",
    "Console.WriteLine($\"Using chat deployment: {settings.AzureOpenAI.ChatDeployment}\");\n",
    "Console.WriteLine($\"Using completions deployment: {settings.AzureOpenAI.CompletionsDeployment}\");\n",
    "Console.WriteLine($\"Your OpenAI API key is secret, but we see {settings.OpenAI.ApiKey.Length} characters in your setting.\");\n",
    "Console.WriteLine($\"Using OpenAI Organization ID, but we see {settings.OpenAI.OrgId.Length} characters in your setting.\");\n",
    "Console.WriteLine($\"Using OpenAI model: {settings.OpenAI.Model}\");"
   ]
  },
  {
   "attachments": {},
   "cell_type": "markdown",
   "metadata": {},
   "source": [
    "If you see your settings correctly printed above, then you have set up your settings.json well. Great job!!\n",
    "\n",
    "We still have to ensure you entered the correct settings and you are able to access your instance of Azure OpenAI Service or OpenAI's APIs. The rest of the tutorials in this series will follow the pattern below:"
   ]
  },
  {
   "cell_type": "code",
   "execution_count": null,
   "metadata": {
    "dotnet_interactive": {
     "language": "csharp"
    },
    "polyglot_notebook": {
     "kernelName": "csharp"
    },
    "vscode": {
     "languageId": "polyglot-notebook"
    }
   },
   "outputs": [],
   "source": [
    "#r \"nuget: Microsoft.SemanticKernel, 1.7.1\"\n",
    "#!import ../config/SettingsHelper.cs\n",
    "using Microsoft.SemanticKernel;\n",
    "using Microsoft.SemanticKernel.Connectors.OpenAI;\n",
    "\n",
    "MySettings settings = Settings.LoadFromFile();\n",
    "IKernelBuilder builder = Kernel.CreateBuilder();\n",
    "if (settings.Type == \"azure\")\n",
    "    builder.AddAzureOpenAIChatCompletion(\n",
    "        settings.AzureOpenAI.ChatDeployment, \"gpt-35-turbo\", settings.AzureOpenAI.Endpoint, settings.AzureOpenAI.ApiKey);\n",
    "else\n",
    "    builder.AddOpenAIChatCompletion(\n",
    "        settings.OpenAI.Model, settings.OpenAI.ApiKey, settings.OpenAI.OrgId);\n",
    "Kernel kernel = builder.Build();\n",
    "\n",
    "// define your semantic function\n",
    "string functionDefinition = \"\"\"\n",
    "    {{$input}}...\n",
    "    Finish the phrase above.\n",
    "    \"\"\";\n",
    "\n",
    "// optionally, you can specify settings for the function\n",
    "OpenAIPromptExecutionSettings executionSettings = new() { MaxTokens = 25 };\n",
    "\n",
    "// attach the function to your kernel\n",
    "KernelFunction finishFunction = kernel.CreateFunctionFromPrompt(functionDefinition, executionSettings);\n",
    "\n",
    "// invoke the function to pass the prompt as input to the function\n",
    "FunctionResult result = await finishFunction.InvokeAsync(kernel, new KernelArguments() {{\"input\", \"How much wood could\"}});\n",
    "\n",
    "// return the result to the user\n",
    "Console.Write(result.GetValue<string>()!);"
   ]
  },
  {
   "attachments": {},
   "cell_type": "markdown",
   "metadata": {},
   "source": [
    "Did you get the output you were expecting? If you see the completed phrase, great job!! If you don't, then double-check:\n",
    "- your seettings in settings.json and \n",
    "- be sure you correctly set your deployment (Azure) or model (OpenAI).\n",
    "\n",
    "Don't worry too much about what each of the above lines of code actually does as we'll walk through this in more detail in the next few tutorials."
   ]
  }
 ],
 "metadata": {
  "language_info": {
   "name": "python"
  },
  "orig_nbformat": 4
 },
 "nbformat": 4,
 "nbformat_minor": 2
}
