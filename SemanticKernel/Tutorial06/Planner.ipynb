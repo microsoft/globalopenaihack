{
 "cells": [
  {
   "attachments": {},
   "cell_type": "markdown",
   "metadata": {},
   "source": [
    "# Function Calling and Planners\n",
    "\n",
    "When we know exactly which semantic function we want to invoke in our app, we can just invoke that function in our code. As we grow our library of interesting and useful semantic functions, we might not want a specific button in our UI to invoke each function. Wouldn't it be cool if the AI could determine which semantic function best fits the user's question?."
   ]
  },
  {
   "cell_type": "code",
   "execution_count": null,
   "metadata": {
    "dotnet_interactive": {
     "language": "csharp"
    },
    "polyglot_notebook": {
     "kernelName": "csharp"
    },
    "vscode": {
     "languageId": "polyglot-notebook"
    }
   },
   "outputs": [],
   "source": [
    "#r \"nuget: Microsoft.SemanticKernel, 1.7.1\"\n",
    "#!import ../config/SettingsHelper.cs\n",
    "using Microsoft.SemanticKernel;\n",
    "\n",
    "MySettings settings = Settings.LoadFromFile();\n",
    "IKernelBuilder builder = Kernel.CreateBuilder();\n",
    "if (settings.Type == \"azure\")\n",
    "    builder.AddAzureOpenAIChatCompletion(\n",
    "        settings.AzureOpenAI.ChatDeployment, \"gpt-35-turbo\", settings.AzureOpenAI.Endpoint, settings.AzureOpenAI.ApiKey);\n",
    "else\n",
    "    builder.AddOpenAIChatCompletion(\n",
    "        settings.OpenAI.Model, settings.OpenAI.ApiKey, settings.OpenAI.OrgId);\n",
    "Kernel kernel = builder.Build();"
   ]
  },
  {
   "cell_type": "markdown",
   "metadata": {},
   "source": [
    "# Function Calling\n",
    "\n",
    "Function calling is an amazing capability that allows the LLM to choose - and invoke - the most probable plugin function you've loaded into the kernel.\n",
    "\n",
    "Before you run the following code, open the CelebratePlugin.cs file in the Plugins folder. Here, you'll see more than one KernelFunction are defined (e.g. GenerateOccasionCard and GenerateGiftIdeas). When creating the plan, we'll first use the user's question to determine the best function to call. We'll then execute the function chosen by the AI. "
   ]
  },
  {
   "cell_type": "code",
   "execution_count": null,
   "metadata": {
    "dotnet_interactive": {
     "language": "csharp"
    },
    "polyglot_notebook": {
     "kernelName": "csharp"
    },
    "vscode": {
     "languageId": "polyglot-notebook"
    }
   },
   "outputs": [],
   "source": [
    "using Azure.AI.OpenAI;\n",
    "using Microsoft.SemanticKernel.ChatCompletion;\n",
    "using Microsoft.SemanticKernel.Connectors.OpenAI;\n",
    "\n",
    "#!import Plugins/CelebratePlugin.cs\n",
    "\n",
    "// load the kernel up with multiple functions to choose from\n",
    "kernel.ImportPluginFromType<CelebratePlugin>();\n",
    "\n",
    "// Enable auto invocation of kernel functions\n",
    "OpenAIPromptExecutionSettings settings = \n",
    "    new() { ToolCallBehavior = ToolCallBehavior.EnableKernelFunctions };\n",
    "\n",
    "IChatCompletionService chatCompletionService = \n",
    "    kernel.GetRequiredService<IChatCompletionService>();\n",
    "\n",
    "ChatHistory chatHistory = [];\n",
    "chatHistory.AddUserMessage(\"I have no idea what to get my dad for father's day! help?\");\n",
    "\n",
    "OpenAIChatMessageContent result = \n",
    "    (OpenAIChatMessageContent)await chatCompletionService\n",
    "    .GetChatMessageContentAsync(chatHistory, settings, kernel);\n",
    "ChatCompletionsFunctionToolCall toolCall = \n",
    "    result.ToolCalls.OfType<ChatCompletionsFunctionToolCall>().First();\n",
    "\n",
    "// if a valid function was found, execute it\n",
    "chatHistory.Add(result);\n",
    "kernel.Plugins.TryGetFunctionAndArguments(\n",
    "    toolCall,\n",
    "    out KernelFunction? pluginFunction,\n",
    "    out KernelArguments? arguments);\n",
    "string? content = await pluginFunction.InvokeAsync<string>(kernel, arguments);\n",
    "\n",
    "Console.WriteLine(content);"
   ]
  },
  {
   "cell_type": "markdown",
   "metadata": {},
   "source": [
    "I know the response is long, but I want you to see the plan generated.\n",
    "\n",
    "The response you are looking for is all the way at the bottom where it generated a list of ideas for father's day gifts even though we didn't direct the kernel to invoke the GenerateGiftIdeas function. There are two AI calls happening here:\n",
    "1. We pass the prompt and a list of our available plugins/functions to an instance of our kernel. The kernel takes care of reading the descriptions of each of our funtions to the AI and determine which function best fits the user's provided input.\n",
    "2. The second call passes our Father's Day prompt to the GenerateGiftIdeas function - and no other function. The AI correctly sees this as the most appropriate function."
   ]
  },
  {
   "cell_type": "markdown",
   "metadata": {},
   "source": [
    "# Planners\n",
    "\n",
    "Content not yet complete..."
   ]
  },
  {
   "cell_type": "markdown",
   "metadata": {},
   "source": [
    "# Exercise\n",
    "\n"
   ]
  },
  {
   "cell_type": "code",
   "execution_count": null,
   "metadata": {
    "dotnet_interactive": {
     "language": "csharp"
    },
    "polyglot_notebook": {
     "kernelName": "csharp"
    },
    "vscode": {
     "languageId": "polyglot-notebook"
    }
   },
   "outputs": [],
   "source": []
  }
 ],
 "metadata": {
  "language_info": {
   "name": "python"
  },
  "orig_nbformat": 4
 },
 "nbformat": 4,
 "nbformat_minor": 2
}
